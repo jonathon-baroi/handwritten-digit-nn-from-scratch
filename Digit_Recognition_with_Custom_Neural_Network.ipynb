{
  "nbformat": 4,
  "nbformat_minor": 0,
  "metadata": {
    "colab": {
      "provenance": []
    },
    "kernelspec": {
      "name": "python3",
      "display_name": "Python 3"
    },
    "language_info": {
      "name": "python"
    }
  },
  "cells": [
    {
      "cell_type": "code",
      "execution_count": 52,
      "metadata": {
        "id": "KUnvBewCim4R"
      },
      "outputs": [],
      "source": [
        "import numpy as np\n",
        "import matplotlib.pyplot as plt\n",
        "from sklearn.datasets import load_digits\n",
        "from sklearn.model_selection import train_test_split\n",
        "from sklearn.preprocessing import OneHotEncoder\n",
        "import sys\n",
        "import random"
      ]
    },
    {
      "cell_type": "code",
      "source": [
        "digits = load_digits()\n",
        "X = digits.data\n",
        "y = digits.target.reshape(-1, 1)\n",
        "\n",
        "print(f\"X:\\n {X}\")\n",
        "print(f\"y:\\n {y}\")"
      ],
      "metadata": {
        "colab": {
          "base_uri": "https://localhost:8080/"
        },
        "id": "c2J8aG3xi-WB",
        "outputId": "7845ee29-76d1-4506-8637-c9f61e0798e7"
      },
      "execution_count": 53,
      "outputs": [
        {
          "output_type": "stream",
          "name": "stdout",
          "text": [
            "X:\n",
            " [[ 0.  0.  5. ...  0.  0.  0.]\n",
            " [ 0.  0.  0. ... 10.  0.  0.]\n",
            " [ 0.  0.  0. ... 16.  9.  0.]\n",
            " ...\n",
            " [ 0.  0.  1. ...  6.  0.  0.]\n",
            " [ 0.  0.  2. ... 12.  0.  0.]\n",
            " [ 0.  0. 10. ... 12.  1.  0.]]\n",
            "y:\n",
            " [[0]\n",
            " [1]\n",
            " [2]\n",
            " ...\n",
            " [8]\n",
            " [9]\n",
            " [8]]\n"
          ]
        }
      ]
    },
    {
      "cell_type": "code",
      "source": [
        "encoder = OneHotEncoder(sparse_output=False)\n",
        "y_one_hot = encoder.fit_transform(y)\n",
        "y_one_hot"
      ],
      "metadata": {
        "colab": {
          "base_uri": "https://localhost:8080/"
        },
        "id": "SUABzfFPjPri",
        "outputId": "1a4bac50-f749-42b5-be59-391c81e75644"
      },
      "execution_count": 54,
      "outputs": [
        {
          "output_type": "execute_result",
          "data": {
            "text/plain": [
              "array([[1., 0., 0., ..., 0., 0., 0.],\n",
              "       [0., 1., 0., ..., 0., 0., 0.],\n",
              "       [0., 0., 1., ..., 0., 0., 0.],\n",
              "       ...,\n",
              "       [0., 0., 0., ..., 0., 1., 0.],\n",
              "       [0., 0., 0., ..., 0., 0., 1.],\n",
              "       [0., 0., 0., ..., 0., 1., 0.]])"
            ]
          },
          "metadata": {},
          "execution_count": 54
        }
      ]
    },
    {
      "cell_type": "code",
      "source": [
        "X_train_raw, X_test_raw, y_train, y_test = train_test_split(X, y_one_hot, test_size=0.2, random_state=42)"
      ],
      "metadata": {
        "id": "jx2stfVEjU2M"
      },
      "execution_count": 55,
      "outputs": []
    },
    {
      "cell_type": "code",
      "source": [
        "def visualize_sample_digits(X, y, title):\n",
        "    plt.figure(figsize=(10, 4))\n",
        "    plt.suptitle(title, fontsize=16)\n",
        "    indices = random.sample(range(len(X)), 10) # 10 samples\n",
        "    for i, index in enumerate(indices):\n",
        "        plt.subplot(2, 5, i + 1)\n",
        "        plt.imshow(X[index].reshape(8, 8), cmap='gray')\n",
        "        plt.title(f\"Label: {np.argmax(y[index])}\")\n",
        "        plt.axis('off')\n",
        "    plt.show()\n",
        "\n",
        "def visualize_predictions(model, X_test, y_test):\n",
        "    plt.figure(figsize=(12, 8))\n",
        "    plt.suptitle(\"Model Predictions on Test Data\", fontsize=16)\n",
        "\n",
        "    logits = model.predict(X_test)\n",
        "    predictions = np.argmax(logits, axis=1)\n",
        "    true_labels = np.argmax(y_test, axis=1)\n",
        "\n",
        "    indices = random.sample(range(len(X_test)), 15) # 15 tests\n",
        "\n",
        "    for i, index in enumerate(indices):\n",
        "        plt.subplot(3, 5, i + 1)\n",
        "        plt.imshow(X_test[index].reshape(8, 8), cmap='gray')\n",
        "\n",
        "        pred_label = predictions[index]\n",
        "        true_label = true_labels[index]\n",
        "\n",
        "        if pred_label == true_label:\n",
        "            color = \"green\"\n",
        "        else:\n",
        "            color = \"red\"\n",
        "\n",
        "        plt.title(f\"Pred: {pred_label}\\nTrue: {true_label}\", color=color)\n",
        "        plt.axis('off')\n",
        "    plt.tight_layout(rect=[0, 0, 1, 0.96])\n",
        "    plt.show()"
      ],
      "metadata": {
        "id": "Fdlh2dsAjed8"
      },
      "execution_count": 56,
      "outputs": []
    },
    {
      "cell_type": "code",
      "source": [
        "visualize_sample_digits(X_train_raw, y_train, \"Sample Digits from Training Data\")"
      ],
      "metadata": {
        "colab": {
          "base_uri": "https://localhost:8080/",
          "height": 381
        },
        "id": "WbYoNPQluckF",
        "outputId": "b5fd0693-686f-44f3-b79b-646c7f512ae6"
      },
      "execution_count": 57,
      "outputs": [
        {
          "output_type": "display_data",
          "data": {
            "text/plain": [
              "<Figure size 1000x400 with 10 Axes>"
            ],
            "image/png": "[encoded data removed]"
          },
          "metadata": {}
        }
      ]
    },
    {
      "cell_type": "code",
      "source": [
        "# Normalization\n",
        "X_train = X_train_raw / 16.0\n",
        "X_test = X_test_raw / 16.0\n",
        "\n",
        "n_features = X.shape[1]\n",
        "n_classes = y_one_hot.shape[1]\n",
        "n_samples = X.shape[0]\n",
        "print(f\"{n_features} features -> {n_classes} classes. {n_samples} samples\")"
      ],
      "metadata": {
        "colab": {
          "base_uri": "https://localhost:8080/"
        },
        "id": "-dM5rnowjnhb",
        "outputId": "cbd6c4dd-c1db-4682-c306-d5fdc1e8c31b"
      },
      "execution_count": 60,
      "outputs": [
        {
          "output_type": "stream",
          "name": "stdout",
          "text": [
            "64 features -> 10 classes. 1797 samples\n"
          ]
        }
      ]
    },
    {
      "cell_type": "code",
      "source": [
        "class Layer:\n",
        "  def forward(self, input):\n",
        "    pass\n",
        "\n",
        "  def backward(self, gradient_wrt_loss):\n",
        "    pass\n",
        "\n",
        "  def params(self):\n",
        "    return []\n",
        "\n",
        "class Linear(Layer):\n",
        "  def __init__(self, n_input, n_output):\n",
        "      self.w = np.random.randn(n_output, n_input)\n",
        "      self.b = np.zeros((1, n_output))\n",
        "      self.dw = np.zeros_like(self.w)\n",
        "      self.db = np.zeros_like(self.b)\n",
        "      self.input = None\n",
        "\n",
        "  def forward(self, input):\n",
        "    self.input = input\n",
        "    return np.dot(input, self.w.T) + self.b\n",
        "\n",
        "  def backward(self, gradient_wrt_loss):\n",
        "    self.dw += np.dot(gradient_wrt_loss.T, self.input)\n",
        "    self.db += np.sum(gradient_wrt_loss, axis=0, keepdims=True)\n",
        "    return np.dot(gradient_wrt_loss, self.w)\n",
        "\n",
        "  def params(self):\n",
        "    return [self.w, self.b]\n",
        "\n",
        "class ReLU(Layer):\n",
        "  def __init__(self):\n",
        "    self.input = None\n",
        "\n",
        "  def forward(self, input):\n",
        "    self.input = input\n",
        "    return np.maximum(0, input)\n",
        "\n",
        "  def backward(self, gradient_wrt_loss):\n",
        "    relu_gradient = self.input > 0\n",
        "    return gradient_wrt_loss * relu_gradient\n",
        "\n",
        "class Sequential:\n",
        "  def __init__(self, layers=None):\n",
        "    if layers == None:\n",
        "      self.layers = []\n",
        "    else:\n",
        "      self.layers = layers\n",
        "\n",
        "  def add(self, layer):\n",
        "    self.layers.append(layer)\n",
        "\n",
        "  def compile(self, optimizer, loss):\n",
        "    self.optimizer = optimizer\n",
        "    self.loss = loss\n",
        "\n",
        "  def forward(self, input):\n",
        "    output = input\n",
        "    for layer in self.layers:\n",
        "        output = layer.forward(output)\n",
        "    return output\n",
        "\n",
        "  def backward(self, gradient_wrt_loss):\n",
        "      for layer in reversed(self.layers):\n",
        "          gradient_wrt_loss = layer.backward(gradient_wrt_loss)\n",
        "\n",
        "  def fit(self, X, y, epochs, batch_size=32):\n",
        "    n_samples = X.shape[0]\n",
        "    print(f\"Training for {epochs} epochs:\")\n",
        "    for epoch in range(epochs):\n",
        "      epoch_loss = 0\n",
        "      for i in range(0, n_samples, batch_size):\n",
        "        X_batch = X[i:i+batch_size]\n",
        "        y_batch = y[i:i+batch_size]\n",
        "        y_pred = self.forward(X_batch)\n",
        "        epoch_loss += self.loss(y_pred, y_batch)\n",
        "        loss_grad = self.loss.gradient(y_pred, y_batch)\n",
        "        self.backward(loss_grad)\n",
        "        self.optimizer.step(self.layers)\n",
        "\n",
        "      if epoch % 100 == 0 or epoch == epochs - 1:\n",
        "        avg_loss = epoch_loss / (n_samples / batch_size)\n",
        "        sys.stdout.write(f\"\\rEpoch {epoch}/{epochs}, Loss: {avg_loss:.6f}\")\n",
        "        sys.stdout.flush()\n",
        "    print(\"\\nTraining Complete.\")\n",
        "\n",
        "  def evaluate(self, X, y):\n",
        "    y_pred = self.forward(X)\n",
        "    loss = self.loss(y_pred, y)\n",
        "    predictions = np.argmax(y_pred, axis=1)\n",
        "    true_labels = np.argmax(y, axis=1)\n",
        "    accuracy = np.mean(predictions == true_labels)\n",
        "    return loss, accuracy\n",
        "\n",
        "  def predict(self, X):\n",
        "    return self.forward(X)\n",
        "\n",
        "class CrossEntropyLoss:\n",
        "    def softmax(self, logits):\n",
        "        exps = np.exp(logits - np.max(logits, axis=1, keepdims=True))\n",
        "        return exps / np.sum(exps, axis=1, keepdims=True)\n",
        "\n",
        "    def __call__(self, logits, y_true):\n",
        "        probas = self.softmax(logits)\n",
        "        probas = np.clip(probas, 1e-10, 1.0)\n",
        "        num_samples = logits.shape[0]\n",
        "        return -np.sum(y_true * np.log(probas)) / num_samples\n",
        "\n",
        "    def gradient(self, logits, y_true):\n",
        "        probas = self.softmax(logits)\n",
        "        num_samples = y_true.shape[0]\n",
        "        return (probas - y_true) / num_samples\n",
        "\n",
        "class SGD:\n",
        "    def __init__(self, learning_rate=0.01):\n",
        "        self.lr = learning_rate\n",
        "\n",
        "    def step(self, layers):\n",
        "        for layer in layers:\n",
        "            if isinstance(layer, Linear):\n",
        "                layer.w -= self.lr * layer.dw\n",
        "                layer.b -= self.lr * layer.db\n",
        "                layer.dw.fill(0)\n",
        "                layer.db.fill(0)"
      ],
      "metadata": {
        "id": "BaBXDi9SjvfS"
      },
      "execution_count": 59,
      "outputs": []
    },
    {
      "cell_type": "code",
      "source": [
        "model = Sequential([\n",
        "    Linear(n_features, 64),\n",
        "    ReLU(),\n",
        "    Linear(64, 32),\n",
        "    ReLU(),\n",
        "    Linear(32, n_classes)\n",
        "])\n",
        "\n",
        "model.compile(optimizer=SGD(learning_rate=0.05), loss=CrossEntropyLoss())\n",
        "\n",
        "model.fit(X_train, y_train, epochs=1500, batch_size=128)\n",
        "\n",
        "test_loss, test_accuracy = model.evaluate(X_test, y_test)\n",
        "print(f\"\\nAccuracy on Test Data: {test_accuracy * 100:.2f}% (Loss: {test_loss:.4f})\")\n",
        "\n",
        "visualize_predictions(model, X_test, y_test)"
      ],
      "metadata": {
        "colab": {
          "base_uri": "https://localhost:8080/",
          "height": 667
        },
        "id": "dy6JZAAypnZj",
        "outputId": "a0792e45-77cb-47da-9eb4-80353652e662"
      },
      "execution_count": 51,
      "outputs": [
        {
          "output_type": "stream",
          "name": "stdout",
          "text": [
            "Training for 1500 epochs:\n",
            "Epoch 1499/1500, Loss: 0.031030\n",
            "Training Complete.\n",
            "\n",
            "Accuracy on Test Data: 93.89% (Loss: 0.5915)\n"
          ]
        },
        {
          "output_type": "display_data",
          "data": {
            "text/plain": [
              "<Figure size 1200x800 with 15 Axes>"
            ],
            "image/png": "[encoded data removed]"
          },
          "metadata": {}
        }
      ]
    }
  ]
}